{
 "cells": [
  {
   "cell_type": "code",
   "execution_count": 1,
   "metadata": {},
   "outputs": [
    {
     "name": "stdout",
     "output_type": "stream",
     "text": [
      "482.8299999999814\n"
     ]
    }
   ],
   "source": [
    "times = [648.3999999994412,\n",
    "479,\n",
    "440.09999999962747,\n",
    "452.40000000037253,\n",
    "438,\n",
    "435.70000000018626,\n",
    "512.9000000003725,\n",
    "441.5,\n",
    "470.90000000037253,\n",
    "509.3999999994412]\n",
    "\n",
    "print(sum(times)/len(times))"
   ]
  },
  {
   "cell_type": "code",
   "execution_count": 1,
   "metadata": {},
   "outputs": [
    {
     "name": "stdout",
     "output_type": "stream",
     "text": [
      "13.6\n"
     ]
    }
   ],
   "source": [
    "rtt = [39,\n",
    "11,\n",
    "14,\n",
    "10,\n",
    "7,\n",
    "9,\n",
    "10,\n",
    "9,\n",
    "8,\n",
    "20,\n",
    "10,\n",
    "9,\n",
    "33,\n",
    "9,\n",
    "6,]\n",
    "\n",
    "print(sum(rtt)/len(rtt))"
   ]
  }
 ],
 "metadata": {
  "kernelspec": {
   "display_name": "base",
   "language": "python",
   "name": "python3"
  },
  "language_info": {
   "codemirror_mode": {
    "name": "ipython",
    "version": 3
   },
   "file_extension": ".py",
   "mimetype": "text/x-python",
   "name": "python",
   "nbconvert_exporter": "python",
   "pygments_lexer": "ipython3",
   "version": "3.11.5"
  }
 },
 "nbformat": 4,
 "nbformat_minor": 2
}
